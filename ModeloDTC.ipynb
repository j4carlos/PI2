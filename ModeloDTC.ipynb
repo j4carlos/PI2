{
 "cells": [
  {
   "cell_type": "markdown",
   "metadata": {},
   "source": [
    "Luego de verificar los datos se procedio a implementar un modelo de arbol de decisión clasificador"
   ]
  },
  {
   "cell_type": "code",
   "execution_count": 63,
   "metadata": {},
   "outputs": [],
   "source": [
    "# Tratamiento de datos\n",
    "# ==============================================================================\n",
    "import numpy as np\n",
    "import pandas as pd\n",
    "import statsmodels.api as sm"
   ]
  },
  {
   "cell_type": "code",
   "execution_count": 64,
   "metadata": {},
   "outputs": [],
   "source": [
    "# Preprocesado y modelado\n",
    "# ------------------------------------------------------------------------------\n",
    "from sklearn.model_selection import train_test_split\n",
    "from sklearn.tree import DecisionTreeClassifier\n",
    "from sklearn.ensemble import RandomForestClassifier\n",
    "from sklearn.preprocessing import StandardScaler\n",
    "from sklearn.decomposition import PCA\n",
    "from sklearn.pipeline import Pipeline\n",
    "from sklearn.linear_model import LogisticRegression\n",
    "from sklearn.metrics import accuracy_score\n",
    "from sklearn.metrics import confusion_matrix\n",
    "from sklearn.metrics import recall_score"
   ]
  },
  {
   "cell_type": "code",
   "execution_count": 65,
   "metadata": {},
   "outputs": [],
   "source": [
    "# Lectura de datos\n",
    "# ------------------------------------------------------------------------------\n",
    "\n",
    "data = pd.read_excel(r'E-Commerce_train.xlsx')\n",
    "data_test = pd.read_excel(r'E-Commerce_test.xlsx')\n",
    "\n",
    "df = data\n",
    "df_test = data_test"
   ]
  },
  {
   "attachments": {},
   "cell_type": "markdown",
   "metadata": {},
   "source": [
    "Al tener variables categoricas en ambos datasets se procedio a reemplazar sus valores numericos"
   ]
  },
  {
   "cell_type": "code",
   "execution_count": 66,
   "metadata": {},
   "outputs": [],
   "source": [
    "df['Warehouse_block']=df['Warehouse_block'].map({'A':0,'B':1,'C':2,'D':3,'F':4})\n",
    "df['Mode_of_Shipment']=df['Mode_of_Shipment'].map({'Flight':0,'Ship':1,'Road':2})\n",
    "df['Product_importance']=df['Product_importance'].map({'low':0,'medium':1,'high':2})\n",
    "df=pd.get_dummies(df,columns=['Gender'],drop_first=True)"
   ]
  },
  {
   "cell_type": "code",
   "execution_count": 67,
   "metadata": {},
   "outputs": [],
   "source": [
    "df_test['Warehouse_block']=df_test['Warehouse_block'].map({'A':0,'B':1,'C':2,'D':3,'F':4})\n",
    "df_test['Mode_of_Shipment']=df_test['Mode_of_Shipment'].map({'Flight':0,'Ship':1,'Road':2})\n",
    "df_test['Product_importance']=df_test['Product_importance'].map({'low':0,'medium':1,'high':2})\n",
    "df_test=pd.get_dummies(df_test,columns=['Gender'],drop_first=True)"
   ]
  },
  {
   "cell_type": "code",
   "execution_count": 68,
   "metadata": {},
   "outputs": [
    {
     "data": {
      "text/html": [
       "<div>\n",
       "<style scoped>\n",
       "    .dataframe tbody tr th:only-of-type {\n",
       "        vertical-align: middle;\n",
       "    }\n",
       "\n",
       "    .dataframe tbody tr th {\n",
       "        vertical-align: top;\n",
       "    }\n",
       "\n",
       "    .dataframe thead th {\n",
       "        text-align: right;\n",
       "    }\n",
       "</style>\n",
       "<table border=\"1\" class=\"dataframe\">\n",
       "  <thead>\n",
       "    <tr style=\"text-align: right;\">\n",
       "      <th></th>\n",
       "      <th>Warehouse_block</th>\n",
       "      <th>Mode_of_Shipment</th>\n",
       "      <th>Customer_care_calls</th>\n",
       "      <th>Customer_rating</th>\n",
       "      <th>Cost_of_the_Product</th>\n",
       "      <th>Prior_purchases</th>\n",
       "      <th>Product_importance</th>\n",
       "      <th>Discount_offered</th>\n",
       "      <th>Weight_in_gms</th>\n",
       "      <th>Gender_M</th>\n",
       "    </tr>\n",
       "  </thead>\n",
       "  <tbody>\n",
       "    <tr>\n",
       "      <th>0</th>\n",
       "      <td>4</td>\n",
       "      <td>1</td>\n",
       "      <td>5</td>\n",
       "      <td>1</td>\n",
       "      <td>189</td>\n",
       "      <td>2</td>\n",
       "      <td>1</td>\n",
       "      <td>10</td>\n",
       "      <td>5248</td>\n",
       "      <td>1</td>\n",
       "    </tr>\n",
       "    <tr>\n",
       "      <th>1</th>\n",
       "      <td>3</td>\n",
       "      <td>1</td>\n",
       "      <td>5</td>\n",
       "      <td>3</td>\n",
       "      <td>150</td>\n",
       "      <td>2</td>\n",
       "      <td>2</td>\n",
       "      <td>9</td>\n",
       "      <td>4446</td>\n",
       "      <td>0</td>\n",
       "    </tr>\n",
       "    <tr>\n",
       "      <th>2</th>\n",
       "      <td>4</td>\n",
       "      <td>1</td>\n",
       "      <td>3</td>\n",
       "      <td>3</td>\n",
       "      <td>200</td>\n",
       "      <td>3</td>\n",
       "      <td>0</td>\n",
       "      <td>3</td>\n",
       "      <td>5739</td>\n",
       "      <td>1</td>\n",
       "    </tr>\n",
       "    <tr>\n",
       "      <th>3</th>\n",
       "      <td>0</td>\n",
       "      <td>1</td>\n",
       "      <td>5</td>\n",
       "      <td>1</td>\n",
       "      <td>133</td>\n",
       "      <td>2</td>\n",
       "      <td>1</td>\n",
       "      <td>1</td>\n",
       "      <td>4643</td>\n",
       "      <td>1</td>\n",
       "    </tr>\n",
       "    <tr>\n",
       "      <th>4</th>\n",
       "      <td>1</td>\n",
       "      <td>1</td>\n",
       "      <td>4</td>\n",
       "      <td>2</td>\n",
       "      <td>260</td>\n",
       "      <td>3</td>\n",
       "      <td>0</td>\n",
       "      <td>4</td>\n",
       "      <td>5504</td>\n",
       "      <td>1</td>\n",
       "    </tr>\n",
       "    <tr>\n",
       "      <th>...</th>\n",
       "      <td>...</td>\n",
       "      <td>...</td>\n",
       "      <td>...</td>\n",
       "      <td>...</td>\n",
       "      <td>...</td>\n",
       "      <td>...</td>\n",
       "      <td>...</td>\n",
       "      <td>...</td>\n",
       "      <td>...</td>\n",
       "      <td>...</td>\n",
       "    </tr>\n",
       "    <tr>\n",
       "      <th>1995</th>\n",
       "      <td>0</td>\n",
       "      <td>1</td>\n",
       "      <td>4</td>\n",
       "      <td>1</td>\n",
       "      <td>252</td>\n",
       "      <td>5</td>\n",
       "      <td>1</td>\n",
       "      <td>1</td>\n",
       "      <td>1538</td>\n",
       "      <td>0</td>\n",
       "    </tr>\n",
       "    <tr>\n",
       "      <th>1996</th>\n",
       "      <td>1</td>\n",
       "      <td>1</td>\n",
       "      <td>4</td>\n",
       "      <td>1</td>\n",
       "      <td>232</td>\n",
       "      <td>5</td>\n",
       "      <td>1</td>\n",
       "      <td>6</td>\n",
       "      <td>1247</td>\n",
       "      <td>0</td>\n",
       "    </tr>\n",
       "    <tr>\n",
       "      <th>1997</th>\n",
       "      <td>2</td>\n",
       "      <td>1</td>\n",
       "      <td>5</td>\n",
       "      <td>4</td>\n",
       "      <td>242</td>\n",
       "      <td>5</td>\n",
       "      <td>0</td>\n",
       "      <td>4</td>\n",
       "      <td>1155</td>\n",
       "      <td>0</td>\n",
       "    </tr>\n",
       "    <tr>\n",
       "      <th>1998</th>\n",
       "      <td>4</td>\n",
       "      <td>1</td>\n",
       "      <td>5</td>\n",
       "      <td>2</td>\n",
       "      <td>223</td>\n",
       "      <td>6</td>\n",
       "      <td>1</td>\n",
       "      <td>2</td>\n",
       "      <td>1210</td>\n",
       "      <td>1</td>\n",
       "    </tr>\n",
       "    <tr>\n",
       "      <th>1999</th>\n",
       "      <td>3</td>\n",
       "      <td>1</td>\n",
       "      <td>2</td>\n",
       "      <td>5</td>\n",
       "      <td>155</td>\n",
       "      <td>5</td>\n",
       "      <td>0</td>\n",
       "      <td>6</td>\n",
       "      <td>1639</td>\n",
       "      <td>0</td>\n",
       "    </tr>\n",
       "  </tbody>\n",
       "</table>\n",
       "<p>2000 rows × 10 columns</p>\n",
       "</div>"
      ],
      "text/plain": [
       "      Warehouse_block  Mode_of_Shipment  Customer_care_calls  Customer_rating  \\\n",
       "0                   4                 1                    5                1   \n",
       "1                   3                 1                    5                3   \n",
       "2                   4                 1                    3                3   \n",
       "3                   0                 1                    5                1   \n",
       "4                   1                 1                    4                2   \n",
       "...               ...               ...                  ...              ...   \n",
       "1995                0                 1                    4                1   \n",
       "1996                1                 1                    4                1   \n",
       "1997                2                 1                    5                4   \n",
       "1998                4                 1                    5                2   \n",
       "1999                3                 1                    2                5   \n",
       "\n",
       "      Cost_of_the_Product  Prior_purchases  Product_importance  \\\n",
       "0                     189                2                   1   \n",
       "1                     150                2                   2   \n",
       "2                     200                3                   0   \n",
       "3                     133                2                   1   \n",
       "4                     260                3                   0   \n",
       "...                   ...              ...                 ...   \n",
       "1995                  252                5                   1   \n",
       "1996                  232                5                   1   \n",
       "1997                  242                5                   0   \n",
       "1998                  223                6                   1   \n",
       "1999                  155                5                   0   \n",
       "\n",
       "      Discount_offered  Weight_in_gms  Gender_M  \n",
       "0                   10           5248         1  \n",
       "1                    9           4446         0  \n",
       "2                    3           5739         1  \n",
       "3                    1           4643         1  \n",
       "4                    4           5504         1  \n",
       "...                ...            ...       ...  \n",
       "1995                 1           1538         0  \n",
       "1996                 6           1247         0  \n",
       "1997                 4           1155         0  \n",
       "1998                 2           1210         1  \n",
       "1999                 6           1639         0  \n",
       "\n",
       "[2000 rows x 10 columns]"
      ]
     },
     "execution_count": 68,
     "metadata": {},
     "output_type": "execute_result"
    }
   ],
   "source": [
    "# Se dropea las columnas ID de ambos datasets\n",
    "\n",
    "df.drop(columns=['ID'])\n",
    "df_test.drop(columns=['ID'])"
   ]
  },
  {
   "cell_type": "code",
   "execution_count": 69,
   "metadata": {},
   "outputs": [],
   "source": [
    "# División de los datos en train y test\n",
    "# ------------------------------------------------------------------------------\n",
    "X_train, X_test, y_train, y_test = train_test_split(\n",
    "                                        df.drop(columns ='Reached.on.Time_Y.N'),\n",
    "                                        df['Reached.on.Time_Y.N'], test_size=0.3,\n",
    "                                        random_state = 42\n",
    "                                    )"
   ]
  },
  {
   "attachments": {},
   "cell_type": "markdown",
   "metadata": {},
   "source": [
    "A continuación, se crearon tres pipelines, con tres modelos a evaluar, los modelos elegidos fueron: regresión logística, Decision Tree Classifier y Random Forest Classifier. Respecto al preprocesamiento, aplicaremos un escalado de datos con `Standard Scaler` y haremos reducción de dimensionalidad con `PCA`."
   ]
  },
  {
   "cell_type": "code",
   "execution_count": 70,
   "metadata": {},
   "outputs": [],
   "source": [
    "# Creamos el primer pipeline\n",
    "\n",
    "pipe_lr = Pipeline([('scl', StandardScaler()),\n",
    "\t\t\t('pca', PCA(n_components = 2)),\n",
    "\t\t\t('clf', LogisticRegression(random_state = 42))])"
   ]
  },
  {
   "cell_type": "code",
   "execution_count": 71,
   "metadata": {},
   "outputs": [],
   "source": [
    "# Creamos el segundo pipeline\n",
    "\n",
    "pipe_dt = Pipeline([('scl', StandardScaler()),\n",
    "\t\t\t('pca', PCA(n_components = 2)),\n",
    "\t\t\t('clf', DecisionTreeClassifier( max_depth = 10,\n",
    "    \t\t\t\t\t\t\t\t\t\trandom_state = 42))])"
   ]
  },
  {
   "cell_type": "code",
   "execution_count": 72,
   "metadata": {},
   "outputs": [],
   "source": [
    "# Creamos el tercer pipeline\n",
    "\n",
    "pipe_rf = Pipeline([('scl', StandardScaler()),\n",
    "\t\t\t('pca', PCA(n_components = 2)),\n",
    "\t\t\t('clf', RandomForestClassifier( max_depth = 8,\n",
    "    \t\t\t\t\t\t\t\t\t\trandom_state = 42))])"
   ]
  },
  {
   "cell_type": "code",
   "execution_count": 73,
   "metadata": {},
   "outputs": [],
   "source": [
    "# Los guardamos en una lista y en un diccionario\n",
    "\n",
    "pipelines = [pipe_lr, pipe_dt, pipe_rf]\n",
    "pipe_dict = {0: 'Regresión Logística', 1: 'Árbol de decisión', 2: 'Random Forest'}"
   ]
  },
  {
   "cell_type": "code",
   "execution_count": 74,
   "metadata": {},
   "outputs": [],
   "source": [
    "# Entrenamos\n",
    "\n",
    "for pipe in pipelines:\n",
    "\tpipe.fit(X_train, y_train)"
   ]
  },
  {
   "cell_type": "code",
   "execution_count": 75,
   "metadata": {},
   "outputs": [
    {
     "name": "stdout",
     "output_type": "stream",
     "text": [
      "Regresión Logística pipeline accuracy en test: 0.676\n",
      "Árbol de decisión pipeline accuracy en test: 0.696\n",
      "Random Forest pipeline accuracy en test: 0.704\n"
     ]
    }
   ],
   "source": [
    "# Evaluamos\n",
    "\n",
    "for idx, val in enumerate(pipelines):\n",
    "\tprint('%s pipeline accuracy en test: %.3f' % (pipe_dict[idx], val.score(X_test, y_test)))"
   ]
  },
  {
   "cell_type": "code",
   "execution_count": 76,
   "metadata": {},
   "outputs": [
    {
     "name": "stdout",
     "output_type": "stream",
     "text": [
      "Modelo con el mejor accuracy: Random Forest\n"
     ]
    }
   ],
   "source": [
    "# Identificamos el mejor modelo para el set de testeo\n",
    "\n",
    "best_acc = 0.0\n",
    "best_clf = 0\n",
    "best_pipe = ''\n",
    "for idx, val in enumerate(pipelines):\n",
    "\tif val.score(X_test, y_test) > best_acc:\n",
    "\t\tbest_acc = val.score(X_test, y_test)\n",
    "\t\tbest_pipe = val\n",
    "\t\tbest_clf = idx\n",
    "print('Modelo con el mejor accuracy: %s' % pipe_dict[best_clf])"
   ]
  },
  {
   "cell_type": "code",
   "execution_count": 77,
   "metadata": {},
   "outputs": [],
   "source": [
    "# Guardamos el mejor modelo en una nueva variable\n",
    "modelo = pipelines[best_clf].fit(X_train, y_train)"
   ]
  },
  {
   "cell_type": "code",
   "execution_count": 78,
   "metadata": {},
   "outputs": [
    {
     "name": "stdout",
     "output_type": "stream",
     "text": [
      "Matriz de confusión\n",
      "-------------------\n"
     ]
    },
    {
     "data": {
      "text/plain": [
       "array([[ 871,   73],\n",
       "       [ 726, 1030]], dtype=int64)"
      ]
     },
     "execution_count": 78,
     "metadata": {},
     "output_type": "execute_result"
    }
   ],
   "source": [
    "# Error de test del modelo\n",
    "#-------------------------------------------------------------------------------\n",
    "predicciones = modelo.predict(X = X_test,)\n",
    "\n",
    "print(\"Matriz de confusión\")\n",
    "print(\"-------------------\")\n",
    "confusion_matrix(\n",
    "    y_true    = y_test,\n",
    "    y_pred    = predicciones\n",
    ")"
   ]
  },
  {
   "cell_type": "code",
   "execution_count": 79,
   "metadata": {},
   "outputs": [
    {
     "name": "stdout",
     "output_type": "stream",
     "text": [
      "El accuracy de test es: 0.7040740740740741\n"
     ]
    }
   ],
   "source": [
    "accuracy = accuracy_score(\n",
    "            y_true    = y_test,\n",
    "            y_pred    = predicciones,\n",
    "            normalize = True\n",
    "            )\n",
    "print(f\"El accuracy de test es: {accuracy}\")"
   ]
  },
  {
   "cell_type": "code",
   "execution_count": 80,
   "metadata": {},
   "outputs": [
    {
     "name": "stdout",
     "output_type": "stream",
     "text": [
      "El score del modelo es:, 0.5865603644646925\n"
     ]
    }
   ],
   "source": [
    "print(f'El score del modelo es:, {recall_score(y_test, predicciones)}')"
   ]
  },
  {
   "cell_type": "code",
   "execution_count": 81,
   "metadata": {},
   "outputs": [],
   "source": [
    "# Se realizo la prediccion y se creo el dataframe que lo contega\n",
    "# ------------------------------------------------------------------------------\n",
    "\n",
    "predicciones2 = pipe_rf.predict(X = df_test,)\n",
    "j4carlos = pd.DataFrame(predicciones2, columns=['pred'])"
   ]
  },
  {
   "cell_type": "code",
   "execution_count": 82,
   "metadata": {},
   "outputs": [],
   "source": [
    "# Se genera el .csv para exportar\n",
    "# ------------------------------------------------------------------------------\n",
    "j4carlos.to_csv(\"j4carlos.csv\",index=False)"
   ]
  }
 ],
 "metadata": {
  "kernelspec": {
   "display_name": "Python 3.10.4 64-bit",
   "language": "python",
   "name": "python3"
  },
  "language_info": {
   "codemirror_mode": {
    "name": "ipython",
    "version": 3
   },
   "file_extension": ".py",
   "mimetype": "text/x-python",
   "name": "python",
   "nbconvert_exporter": "python",
   "pygments_lexer": "ipython3",
   "version": "3.10.4"
  },
  "orig_nbformat": 4,
  "vscode": {
   "interpreter": {
    "hash": "bc7696eeafa34b5eae99a8ff85011d0682d74fe0e2a2436bba17f9270709e3f6"
   }
  }
 },
 "nbformat": 4,
 "nbformat_minor": 2
}
